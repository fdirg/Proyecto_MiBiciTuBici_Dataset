{
 "cells": [
  {
   "cell_type": "code",
   "execution_count": null,
   "id": "aaa703a5-0dd0-429f-81c7-e2dc111f12fd",
   "metadata": {},
   "outputs": [],
   "source": [
    "# Dataset formado por los datos brindados por la municipalidad de Rosario basados en el sistema de transporte publico Mi Bici Tu Bici\n",
    "# Los datos fueron extraidos desde la pagina oficial de datos de la municipalidad de Rosario: datosabiertos.rosario.gob.ar\n",
    "# Fuente: https://datosabiertos.rosario.gob.ar/dataset/0e487f13-7725-4bbf-afea-52e429fa92e5"
   ]
  },
  {
   "cell_type": "code",
   "execution_count": 2,
   "id": "4c2193c7-d4c8-402a-a00a-c231e302f571",
   "metadata": {},
   "outputs": [],
   "source": [
    "# Librerias\n",
    "\n",
    "import pandas as pd"
   ]
  },
  {
   "cell_type": "code",
   "execution_count": 3,
   "id": "57b276d0-7803-4f8b-9f8e-86c432ed9041",
   "metadata": {},
   "outputs": [],
   "source": [
    "# Cargamos los datasets\n",
    "\n",
    "urls_data = {\n",
    "    '2019': r'C:\\Users\\Federico\\Desktop\\Data\\Mi bici tu bici\\Mi bici tu bici 2019.csv',\n",
    "    '2020': r'C:\\Users\\Federico\\Desktop\\Data\\Mi bici tu bici\\Mi bici tu bici 2020.csv',\n",
    "    '2021': r'C:\\Users\\Federico\\Desktop\\Data\\Mi bici tu bici\\Mi bici tu bici 2021.txt'\n",
    "}"
   ]
  },
  {
   "cell_type": "code",
   "execution_count": 4,
   "id": "3d1f7324-68f9-4cf9-967c-e2ee00a6d795",
   "metadata": {},
   "outputs": [
    {
     "name": "stderr",
     "output_type": "stream",
     "text": [
      "C:\\Users\\Federico\\AppData\\Local\\Temp\\ipykernel_2700\\4047738598.py:9: DtypeWarning: Columns (0,1,2,3,4,5,6,7,8,9) have mixed types. Specify dtype option on import or set low_memory=False.\n",
      "  df = pd.read_csv(url, delimiter='\"', encoding='latin1')\n"
     ]
    }
   ],
   "source": [
    "# Mediante un bucle FOR creamos los Dataframes en base al año de cada Dataset\n",
    "\n",
    "for anio, url in urls_data.items():\n",
    "        if url.endswith('.csv'):\n",
    "            df = pd.read_csv(url, delimiter=';', encoding='latin1')\n",
    "            # Eliminar tabulaciones en todas las columnas\n",
    "            df = df.replace('\\t', '', regex=True)\n",
    "        elif url.endswith('.txt'):\n",
    "            df = pd.read_csv(url, delimiter='\"', encoding='latin1')\n",
    "            # Eliminar tabulaciones en todas las columnas\n",
    "            df = df.replace('\\t', '', regex=True)\n",
    "        vars()[f'df_{anio}'] = df"
   ]
  },
  {
   "cell_type": "code",
   "execution_count": 5,
   "id": "1e2e3fe0-0c77-4a36-942b-beba0eed1a47",
   "metadata": {},
   "outputs": [
    {
     "name": "stdout",
     "output_type": "stream",
     "text": [
      "Información del DataFrame 2019:\n",
      "\n",
      "<class 'pandas.core.frame.DataFrame'>\n",
      "RangeIndex: 990798 entries, 0 to 990797\n",
      "Data columns (total 6 columns):\n",
      " #   Column          Non-Null Count   Dtype \n",
      "---  ------          --------------   ----- \n",
      " 0   Id              990798 non-null  int64 \n",
      " 1   \tOrigen         990798 non-null  object\n",
      " 2   \tFecha Origen   990798 non-null  object\n",
      " 3   \tDestino        990798 non-null  object\n",
      " 4   \tFecha Destino  990798 non-null  object\n",
      " 5   Transbordo      990798 non-null  object\n",
      "dtypes: int64(1), object(5)\n",
      "memory usage: 45.4+ MB\n",
      "None\n",
      "Información del DataFrame 2020:\n",
      "\n",
      "<class 'pandas.core.frame.DataFrame'>\n",
      "RangeIndex: 789664 entries, 0 to 789663\n",
      "Data columns (total 6 columns):\n",
      " #   Column          Non-Null Count   Dtype  \n",
      "---  ------          --------------   -----  \n",
      " 0   Id              789616 non-null  float64\n",
      " 1   \tOrigen         789616 non-null  object \n",
      " 2   \tFecha Origen   789616 non-null  object \n",
      " 3   \tDestino        789616 non-null  object \n",
      " 4   \tFecha Destino  789616 non-null  object \n",
      " 5   \tTransbordo     789616 non-null  object \n",
      "dtypes: float64(1), object(5)\n",
      "memory usage: 36.1+ MB\n",
      "None\n",
      "Información del DataFrame 2021:\n",
      "\n",
      "<class 'pandas.core.frame.DataFrame'>\n",
      "RangeIndex: 1187302 entries, 0 to 1187301\n",
      "Data columns (total 11 columns):\n",
      " #   Column          Non-Null Count    Dtype  \n",
      "---  ------          --------------    -----  \n",
      " 0   Id\t             1187302 non-null  object \n",
      " 1   \tOrigen         1014281 non-null  object \n",
      " 2   \t               1014281 non-null  object \n",
      " 3   \tFecha Origen   1014281 non-null  object \n",
      " 4   \t.1             1014281 non-null  object \n",
      " 5   \tDestino        1014281 non-null  object \n",
      " 6   \t.2             1014281 non-null  object \n",
      " 7   \tFecha Destino  1014281 non-null  object \n",
      " 8   \t.3             1014281 non-null  object \n",
      " 9   \tTransbordo     1014281 non-null  object \n",
      " 10  Unnamed: 10     0 non-null        float64\n",
      "dtypes: float64(1), object(10)\n",
      "memory usage: 99.6+ MB\n",
      "None\n"
     ]
    }
   ],
   "source": [
    "# Creamos una lista con cada DF\n",
    "\n",
    "dataframes = {\n",
    "    '2019': df_2019, \n",
    "    '2020': df_2020, \n",
    "    '2021': df_2021\n",
    "}\n",
    "\n",
    "# Visualizamos la informacion de cada df\n",
    "\n",
    "for anio, df in dataframes.items():\n",
    "    print(f\"Información del DataFrame {anio}:\\n\")\n",
    "    print(df.info())"
   ]
  },
  {
   "cell_type": "code",
   "execution_count": 6,
   "id": "510bdf03-3218-4808-811a-366850c7197a",
   "metadata": {},
   "outputs": [
    {
     "name": "stdout",
     "output_type": "stream",
     "text": [
      "Información del DataFrame 2019:\n",
      "\n",
      "<class 'pandas.core.frame.DataFrame'>\n",
      "RangeIndex: 990798 entries, 0 to 990797\n",
      "Data columns (total 6 columns):\n",
      " #   Column         Non-Null Count   Dtype \n",
      "---  ------         --------------   ----- \n",
      " 0   Id             990798 non-null  int64 \n",
      " 1   Origen         990798 non-null  object\n",
      " 2   Fecha Origen   990798 non-null  object\n",
      " 3   Destino        990798 non-null  object\n",
      " 4   Fecha Destino  990798 non-null  object\n",
      " 5   Transbordo     990798 non-null  object\n",
      "dtypes: int64(1), object(5)\n",
      "memory usage: 45.4+ MB\n",
      "None\n",
      "Información del DataFrame 2020:\n",
      "\n",
      "<class 'pandas.core.frame.DataFrame'>\n",
      "RangeIndex: 789664 entries, 0 to 789663\n",
      "Data columns (total 6 columns):\n",
      " #   Column         Non-Null Count   Dtype  \n",
      "---  ------         --------------   -----  \n",
      " 0   Id             789616 non-null  float64\n",
      " 1   Origen         789616 non-null  object \n",
      " 2   Fecha Origen   789616 non-null  object \n",
      " 3   Destino        789616 non-null  object \n",
      " 4   Fecha Destino  789616 non-null  object \n",
      " 5   Transbordo     789616 non-null  object \n",
      "dtypes: float64(1), object(5)\n",
      "memory usage: 36.1+ MB\n",
      "None\n",
      "Información del DataFrame 2021:\n",
      "\n",
      "<class 'pandas.core.frame.DataFrame'>\n",
      "RangeIndex: 1187302 entries, 0 to 1187301\n",
      "Data columns (total 11 columns):\n",
      " #   Column         Non-Null Count    Dtype  \n",
      "---  ------         --------------    -----  \n",
      " 0   Id             1187302 non-null  object \n",
      " 1   Origen         1014281 non-null  object \n",
      " 2                  1014281 non-null  object \n",
      " 3   Fecha Origen   1014281 non-null  object \n",
      " 4   .1             1014281 non-null  object \n",
      " 5   Destino        1014281 non-null  object \n",
      " 6   .2             1014281 non-null  object \n",
      " 7   Fecha Destino  1014281 non-null  object \n",
      " 8   .3             1014281 non-null  object \n",
      " 9   Transbordo     1014281 non-null  object \n",
      " 10  Unnamed: 10    0 non-null        float64\n",
      "dtypes: float64(1), object(10)\n",
      "memory usage: 99.6+ MB\n",
      "None\n"
     ]
    }
   ],
   "source": [
    "# Quitamos los espacios en blanco de las columnas de cada DF\n",
    "\n",
    "for anio, df in dataframes.items():\n",
    "    dataframes[anio] = df.rename(columns=lambda x: x.strip())\n",
    "\n",
    "# Visualizamos las columnas de cada DF para cerciorar los cambios hechos\n",
    "\n",
    "for anio, df in dataframes.items():\n",
    "    print(f\"Información del DataFrame {anio}:\\n\")\n",
    "    print(df.info())"
   ]
  },
  {
   "cell_type": "code",
   "execution_count": 7,
   "id": "a7cb4e8a-b3ca-407c-aa29-b9c43e24824c",
   "metadata": {},
   "outputs": [
    {
     "name": "stdout",
     "output_type": "stream",
     "text": [
      "Columnas df_2019: ('Id', '\\tOrigen', '\\tFecha Origen', '\\tDestino', '\\tFecha Destino', 'Transbordo')\n",
      "\n",
      "Columnas df_2020: ('Id', '\\tOrigen', '\\tFecha Origen', '\\tDestino', '\\tFecha Destino', '\\tTransbordo')\n",
      "\n",
      "Columnas df_2021: ('Id\\t', '\\tOrigen', '\\t', '\\tFecha Origen', '\\t.1', '\\tDestino', '\\t.2', '\\tFecha Destino', '\\t.3', '\\tTransbordo', 'Unnamed: 10')\n",
      "\n"
     ]
    }
   ],
   "source": [
    "# Creamos un dic para guardar todas las columnas de cada DF para analizar que cada columna sea igual.\n",
    "\n",
    "columnas_df = {}\n",
    "\n",
    "# Mediante un bucle FOR obtenemos todas las columnas de todos los DF\n",
    "\n",
    "for anio, df in vars().items(): \n",
    "    if anio.startswith('df_'):\n",
    "        columnas_df[anio] = tuple(df.columns.tolist())\n",
    "\n",
    "# Visualizamos las columnas de cada DF\n",
    "\n",
    "for anio, columnas in columnas_df.items():\n",
    "    print(f'Columnas {anio}: {columnas}\\n')"
   ]
  },
  {
   "cell_type": "code",
   "execution_count": 8,
   "id": "ba953f38-979d-4859-bb9a-42672fdb4af0",
   "metadata": {},
   "outputs": [],
   "source": [
    "# Borramos los caracteres \\t de cada columna\n",
    "\n",
    "for anio, df in dataframes.items():\n",
    "    # Eliminar las tabulaciones de los nombres de las columnas\n",
    "    df.columns = df.columns.str.replace('\\t', '')\n",
    "    dataframes[anio] = df"
   ]
  },
  {
   "cell_type": "code",
   "execution_count": 9,
   "id": "5182d610-6cab-4a85-8a7b-737d0e37dc76",
   "metadata": {},
   "outputs": [
    {
     "name": "stdout",
     "output_type": "stream",
     "text": [
      "Columnas 2019: ('Id', 'Origen', 'Fecha Origen', 'Destino', 'Fecha Destino', 'Transbordo')\n",
      "\n",
      "Columnas 2020: ('Id', 'Origen', 'Fecha Origen', 'Destino', 'Fecha Destino', 'Transbordo')\n",
      "\n",
      "Columnas 2021: ('Id', 'Origen', '', 'Fecha Origen', '.1', 'Destino', '.2', 'Fecha Destino', '.3', 'Transbordo', 'Unnamed: 10')\n",
      "\n"
     ]
    }
   ],
   "source": [
    "# Volvemos vacio el dic de columnas\n",
    "\n",
    "columnas_df = {}\n",
    "\n",
    "# Iteramos sobre el dic dataframes para obtener las columnas de cada df con los cambios en los nombres de las columnas hechos anteriormente\n",
    "for anio, df in dataframes.items(): \n",
    "    columnas_df[anio] = tuple(df.columns.tolist())\n",
    "\n",
    "# Visualizamos las columnas de cada DF\n",
    "\n",
    "for anio, columnas in columnas_df.items():\n",
    "    print(f'Columnas {anio}: {columnas}\\n')"
   ]
  },
  {
   "cell_type": "code",
   "execution_count": 10,
   "id": "d8b65eb9-4c0c-4655-8380-a758abaebf35",
   "metadata": {},
   "outputs": [],
   "source": [
    "# Borramos las columnas '', '.1', '.2', etc. Columnas las cuales no tienen valores\n",
    "\n",
    "for anio, df in dataframes.items():\n",
    "    df = df.loc[:, ~df.columns.str.match(r'^$|^\\.\\d+|Unnamed:')]\n",
    "    dataframes[anio] = df"
   ]
  },
  {
   "cell_type": "code",
   "execution_count": 11,
   "id": "3024c7cd-cfc9-4808-9178-2b6193bf7e51",
   "metadata": {},
   "outputs": [
    {
     "name": "stdout",
     "output_type": "stream",
     "text": [
      "Columnas 2019: ('Id', 'Origen', 'Fecha Origen', 'Destino', 'Fecha Destino', 'Transbordo')\n",
      "\n",
      "Columnas 2020: ('Id', 'Origen', 'Fecha Origen', 'Destino', 'Fecha Destino', 'Transbordo')\n",
      "\n",
      "Columnas 2021: ('Id', 'Origen', 'Fecha Origen', 'Destino', 'Fecha Destino', 'Transbordo')\n",
      "\n"
     ]
    }
   ],
   "source": [
    "# Volvemos vacio el dic de columnas nuevamente\n",
    "\n",
    "columnas_df = {}\n",
    "\n",
    "# Iteramos sobre el dic dataframes para obtener las columnas de cada df con los cambios realizado\n",
    "for anio, df in dataframes.items(): \n",
    "    columnas_df[anio] = tuple(df.columns.tolist())\n",
    "\n",
    "# Visualizamos las columnas de cada DF, viendo que las columnas vacias y no desesadas fueron eliminadas\n",
    "\n",
    "for anio, columnas in columnas_df.items():\n",
    "    print(f'Columnas {anio}: {columnas}\\n')"
   ]
  },
  {
   "cell_type": "code",
   "execution_count": 12,
   "id": "768c1b0a-75e7-4d7a-9452-a8a028cf2d9a",
   "metadata": {},
   "outputs": [],
   "source": [
    "# Concatenamos todos los df en un solo df\n",
    "\n",
    "df = pd.concat(dataframes, ignore_index=True)"
   ]
  },
  {
   "cell_type": "code",
   "execution_count": 13,
   "id": "638fb46c-90fc-4e60-8403-5a2515c0c418",
   "metadata": {},
   "outputs": [
    {
     "name": "stdout",
     "output_type": "stream",
     "text": [
      "<class 'pandas.core.frame.DataFrame'>\n",
      "RangeIndex: 2967764 entries, 0 to 2967763\n",
      "Data columns (total 6 columns):\n",
      " #   Column         Dtype \n",
      "---  ------         ----- \n",
      " 0   Id             object\n",
      " 1   Origen         object\n",
      " 2   Fecha Origen   object\n",
      " 3   Destino        object\n",
      " 4   Fecha Destino  object\n",
      " 5   Transbordo     object\n",
      "dtypes: object(6)\n",
      "memory usage: 135.9+ MB\n"
     ]
    }
   ],
   "source": [
    "# Visualizamos el df unico\n",
    "\n",
    "df.info()"
   ]
  },
  {
   "cell_type": "code",
   "execution_count": 14,
   "id": "0810c0f6-fb9d-4917-be0a-aebd628d51e5",
   "metadata": {},
   "outputs": [
    {
     "data": {
      "text/plain": [
       "(2967764, 6)"
      ]
     },
     "execution_count": 14,
     "metadata": {},
     "output_type": "execute_result"
    }
   ],
   "source": [
    "df.shape"
   ]
  },
  {
   "cell_type": "code",
   "execution_count": 15,
   "id": "bb8ae6a5-bab5-4d5d-bc96-7a943d58b024",
   "metadata": {},
   "outputs": [
    {
     "name": "stdout",
     "output_type": "stream",
     "text": [
      "Cantidad de registros totales: 2967764\n"
     ]
    }
   ],
   "source": [
    "# Cantidad de registros totales\n",
    "\n",
    "print(f\"Cantidad de registros totales: {df.shape[0]}\")"
   ]
  },
  {
   "cell_type": "code",
   "execution_count": 16,
   "id": "f719a352-0d78-43a2-850c-2afe69c5bcf6",
   "metadata": {},
   "outputs": [],
   "source": [
    "# Quitamos los espacios en blanco de todos los valores\n",
    "\n",
    "df = df.map(lambda x: x.strip() if isinstance(x, str) else x)"
   ]
  },
  {
   "cell_type": "code",
   "execution_count": 17,
   "id": "8c1a586b-c825-4e89-8089-cf295e7d4f09",
   "metadata": {},
   "outputs": [
    {
     "name": "stdout",
     "output_type": "stream",
     "text": [
      "Valores unicos de la columna 'Id':\n",
      "[1116749 1116750 1116751 ... 4477928 4477929 4477930]\n",
      "\n",
      "Valores unicos de la columna 'Origen':\n",
      "['Plaza Sarmiento' 'Plaza López' 'Plaza Cooperación' 'Pichincha'\n",
      " 'Plaza Eva Duarte de Perón' 'Paseo Pellegrini II' 'Plaza 25 de Mayo'\n",
      " 'Paseo Pellegrini' 'Barrio Lourdes' 'República de la Sexta'\n",
      " 'Barrio Hospitales' 'CC Echesortu' 'Parque Hipólito Yrigoyen II'\n",
      " 'Parque Independencia I' 'Barrio Martin' 'Bella Vista' 'Abasto'\n",
      " 'Estadio Municipal' 'Club Provincial' 'Barrio Parque' 'Cinco esquinas'\n",
      " 'Plaza Gral. Toribio de Luzuriaga' 'Fac. Ciencias Económicas'\n",
      " 'Plaza Pringles' 'HECA / UCA' 'Plaza Montenegro' 'CC Echesortu II'\n",
      " 'Terminal' 'Gimnasio UNR' 'Fac. Medicina' 'Oroño y Segui'\n",
      " 'Fac. de Ingeniería' 'Refinería' 'Parque España'\n",
      " 'Parque Hipólito Yrigoyen' 'Puerto Norte' 'Plaza Suecia' 'Barrio Agote'\n",
      " 'Museo Castagnino' 'Parque Independencia II' 'Pichincha II' 'Arroyito'\n",
      " 'Alto Rosario' 'Parque de la Arenera' 'Plaza San Martín'\n",
      " 'Pellegrini y Avellaneda' 'Pueyrredón' 'Ciudad Univ. I' 'Barrio Matheu'\n",
      " 'Lagos y Segui' 'Distrito Centro' 'Ciudad Univ. II' 'Estación móvil 01'\n",
      " 'Estación móvil 02' 'Avellaneda y Córdoba' 'Distrito Oeste'\n",
      " 'Lisandro de la Torre' nan 'Portal Rosario' 'Rondeau y Washington'\n",
      " 'Plaza Alberdi' 'La Rambla' 'La Florida' 'Parque Alem' 'PAMI II'\n",
      " 'Rondeau y Sorrento' 'Plaza Azcuénaga' 'Cuatro Plazas'\n",
      " 'Mendoza y Magallanes' 'Mendoza y Sucre' 'Provincias Unidas y Eva Perón'\n",
      " 'Costa Alta' 'Distrito Noroeste' 'Rondeau y Martín Fierro'\n",
      " 'Rondeau y Ricardo Núñez' 'Estación de Prueba']\n",
      "\n",
      "Valores unicos de la columna 'Fecha Origen':\n",
      "['2019-01-01 00:01:40' '2019-01-01 00:02:33' '2019-01-01 00:04:36' ...\n",
      " '2021-12-31 23:42:52' '2021-12-31 23:43:05' '2021-12-31 23:43:30']\n",
      "\n",
      "Valores unicos de la columna 'Destino':\n",
      "['Plaza Suecia' 'Barrio Martin' 'Fac. Medicina' 'Pueyrredón'\n",
      " 'Barrio Lourdes' 'Barrio Hospitales' 'Parque Independencia I' 'Arroyito'\n",
      " 'Plaza San Martín' 'Fac. Ciencias Económicas' 'Plaza Eva Duarte de Perón'\n",
      " 'Barrio Parque' 'Pichincha' 'Parque Hipólito Yrigoyen' 'Parque España'\n",
      " 'Plaza López' 'Gimnasio UNR' 'Paseo Pellegrini II' 'Fac. de Ingeniería'\n",
      " 'Terminal' 'Plaza Montenegro' 'Plaza Pringles' 'Plaza Cooperación'\n",
      " 'Plaza Gral. Toribio de Luzuriaga' 'HECA / UCA' 'CC Echesortu'\n",
      " 'Bella Vista' 'Parque de la Arenera' 'Plaza 25 de Mayo'\n",
      " 'Estadio Municipal' 'Parque Hipólito Yrigoyen II' 'Pichincha II'\n",
      " 'República de la Sexta' 'Plaza Sarmiento' 'Abasto' 'CC Echesortu II'\n",
      " 'Refinería' 'Paseo Pellegrini' 'Lagos y Segui' 'Oroño y Segui'\n",
      " 'Pellegrini y Avellaneda' 'Cinco esquinas' 'Club Provincial'\n",
      " 'Museo Castagnino' 'Parque Independencia II' 'Barrio Matheu'\n",
      " 'Barrio Agote' 'Puerto Norte' 'Alto Rosario' 'Ciudad Univ. I'\n",
      " 'Ciudad Univ. II' 'Distrito Centro' 'Desarrollo' 'Estación móvil 01'\n",
      " 'Estación móvil 02' 'Avellaneda y Córdoba' 'Distrito Oeste'\n",
      " 'Lisandro de la Torre' nan 'Portal Rosario' 'Rondeau y Washington'\n",
      " 'Plaza Alberdi' 'La Rambla' 'La Florida' 'Parque Alem' 'PAMI II'\n",
      " 'Rondeau y Sorrento' 'Mendoza y Sucre' 'Provincias Unidas y Eva Perón'\n",
      " 'Plaza Azcuénaga' 'Cuatro Plazas' 'Mendoza y Magallanes' 'Costa Alta'\n",
      " 'Distrito Noroeste' 'Rondeau y Martín Fierro' 'Rondeau y Ricardo Núñez'\n",
      " 'Estación de Prueba']\n",
      "\n",
      "Valores unicos de la columna 'Fecha Destino':\n",
      "['2019-01-01 00:22:59' '2019-01-01 00:22:50' '2019-01-01 00:11:29' ...\n",
      " '2021-12-31 23:52:41' '2022-01-01 00:53:32' '2022-01-01 00:01:22']\n",
      "\n",
      "Valores unicos de la columna 'Transbordo':\n",
      "['NC' '-' 'Sin Abono' 'Con Abono' nan]\n",
      "\n"
     ]
    }
   ],
   "source": [
    "# Creamos una lista con las columnas del df para luego visualizar sus valores unicos\n",
    "\n",
    "columnas = [\n",
    "    'Id', \n",
    "    'Origen', \n",
    "    'Fecha Origen', \n",
    "    'Destino', \n",
    "    'Fecha Destino', \n",
    "    'Transbordo'\n",
    "]\n",
    "\n",
    "# Visualizamos los valores unicos de las columnas\n",
    "\n",
    "for columna in columnas:\n",
    "    valores_unicos = df[columna].unique()\n",
    "    print(f\"Valores unicos de la columna '{columna}':\")\n",
    "    print(f\"{valores_unicos}\\n\")"
   ]
  },
  {
   "cell_type": "code",
   "execution_count": 18,
   "id": "ed22a8ca-6964-441a-966a-7ee8f258991f",
   "metadata": {},
   "outputs": [
    {
     "name": "stdout",
     "output_type": "stream",
     "text": [
      "La cantidad de valores duplicados en la columna Id son: 47\n"
     ]
    }
   ],
   "source": [
    "# Empezando por la columna ID, verificamos que no tenga valores duplicados\n",
    "\n",
    "print(f'La cantidad de valores duplicados en la columna Id son: {sum(df[\"Id\"].duplicated())}')"
   ]
  },
  {
   "cell_type": "code",
   "execution_count": 19,
   "id": "1178ee7f-9b0e-4e98-9c69-ea339b5acd4f",
   "metadata": {},
   "outputs": [
    {
     "name": "stdout",
     "output_type": "stream",
     "text": [
      "Filas repetidas:\n",
      "          Id Origen Fecha Origen Destino Fecha Destino Transbordo\n",
      "1780415  NaN    NaN          NaN     NaN           NaN        NaN\n",
      "1780416  NaN    NaN          NaN     NaN           NaN        NaN\n",
      "1780417  NaN    NaN          NaN     NaN           NaN        NaN\n",
      "1780418  NaN    NaN          NaN     NaN           NaN        NaN\n",
      "1780419  NaN    NaN          NaN     NaN           NaN        NaN\n",
      "1780420  NaN    NaN          NaN     NaN           NaN        NaN\n",
      "1780421  NaN    NaN          NaN     NaN           NaN        NaN\n",
      "1780422  NaN    NaN          NaN     NaN           NaN        NaN\n",
      "1780423  NaN    NaN          NaN     NaN           NaN        NaN\n",
      "1780424  NaN    NaN          NaN     NaN           NaN        NaN\n",
      "1780425  NaN    NaN          NaN     NaN           NaN        NaN\n",
      "1780426  NaN    NaN          NaN     NaN           NaN        NaN\n",
      "1780427  NaN    NaN          NaN     NaN           NaN        NaN\n",
      "1780428  NaN    NaN          NaN     NaN           NaN        NaN\n",
      "1780429  NaN    NaN          NaN     NaN           NaN        NaN\n",
      "1780430  NaN    NaN          NaN     NaN           NaN        NaN\n",
      "1780431  NaN    NaN          NaN     NaN           NaN        NaN\n",
      "1780432  NaN    NaN          NaN     NaN           NaN        NaN\n",
      "1780433  NaN    NaN          NaN     NaN           NaN        NaN\n",
      "1780434  NaN    NaN          NaN     NaN           NaN        NaN\n",
      "1780435  NaN    NaN          NaN     NaN           NaN        NaN\n",
      "1780436  NaN    NaN          NaN     NaN           NaN        NaN\n",
      "1780437  NaN    NaN          NaN     NaN           NaN        NaN\n",
      "1780438  NaN    NaN          NaN     NaN           NaN        NaN\n",
      "1780439  NaN    NaN          NaN     NaN           NaN        NaN\n",
      "1780440  NaN    NaN          NaN     NaN           NaN        NaN\n",
      "1780441  NaN    NaN          NaN     NaN           NaN        NaN\n",
      "1780442  NaN    NaN          NaN     NaN           NaN        NaN\n",
      "1780443  NaN    NaN          NaN     NaN           NaN        NaN\n",
      "1780444  NaN    NaN          NaN     NaN           NaN        NaN\n",
      "1780445  NaN    NaN          NaN     NaN           NaN        NaN\n",
      "1780446  NaN    NaN          NaN     NaN           NaN        NaN\n",
      "1780447  NaN    NaN          NaN     NaN           NaN        NaN\n",
      "1780448  NaN    NaN          NaN     NaN           NaN        NaN\n",
      "1780449  NaN    NaN          NaN     NaN           NaN        NaN\n",
      "1780450  NaN    NaN          NaN     NaN           NaN        NaN\n",
      "1780451  NaN    NaN          NaN     NaN           NaN        NaN\n",
      "1780452  NaN    NaN          NaN     NaN           NaN        NaN\n",
      "1780453  NaN    NaN          NaN     NaN           NaN        NaN\n",
      "1780454  NaN    NaN          NaN     NaN           NaN        NaN\n",
      "1780455  NaN    NaN          NaN     NaN           NaN        NaN\n",
      "1780456  NaN    NaN          NaN     NaN           NaN        NaN\n",
      "1780457  NaN    NaN          NaN     NaN           NaN        NaN\n",
      "1780458  NaN    NaN          NaN     NaN           NaN        NaN\n",
      "1780459  NaN    NaN          NaN     NaN           NaN        NaN\n",
      "1780460  NaN    NaN          NaN     NaN           NaN        NaN\n",
      "1780461  NaN    NaN          NaN     NaN           NaN        NaN\n"
     ]
    }
   ],
   "source": [
    "# Visualizamos las filas donde el valor Id sea duplicado\n",
    "\n",
    "valores_duplicados = df[df['Id'].duplicated()]\n",
    "\n",
    "print(\"Filas repetidas:\")\n",
    "print(valores_duplicados)"
   ]
  },
  {
   "cell_type": "code",
   "execution_count": 20,
   "id": "e45b3531-4bfd-48cb-9d69-079c6ba2681a",
   "metadata": {},
   "outputs": [
    {
     "name": "stdout",
     "output_type": "stream",
     "text": [
      "Cantidad de registros totales: 2967764\n"
     ]
    }
   ],
   "source": [
    "# Cantidad de registros totales\n",
    "\n",
    "print(f\"Cantidad de registros totales: {df.shape[0]}\")"
   ]
  },
  {
   "cell_type": "code",
   "execution_count": 21,
   "id": "c207fa2e-3e9b-4445-9bc9-506c046dff2b",
   "metadata": {},
   "outputs": [],
   "source": [
    "# Eliminar los valores duplicados basados en la columna \"Id\"\n",
    "\n",
    "df = df.drop_duplicates(subset=['Id'])"
   ]
  },
  {
   "cell_type": "code",
   "execution_count": 22,
   "id": "35f3d38c-a263-48b8-9c6a-18c9a8320425",
   "metadata": {},
   "outputs": [
    {
     "name": "stdout",
     "output_type": "stream",
     "text": [
      "Cantidad de registros totales: 2967717\n"
     ]
    }
   ],
   "source": [
    "# Cantidad de registros totales luego de los cambios\n",
    "\n",
    "print(f\"Cantidad de registros totales: {df.shape[0]}\")"
   ]
  },
  {
   "cell_type": "code",
   "execution_count": 23,
   "id": "ad3157f4-2da9-449a-a7e6-06d28ae9be6d",
   "metadata": {},
   "outputs": [],
   "source": [
    "# Dividimos las columnas de 'Fecha Origen' en Fecha Origen y Hora Origen\n",
    "\n",
    "df[['Fecha Origen', 'Hora Origen']] = df['Fecha Origen'].str.split(' ', expand=True)"
   ]
  },
  {
   "cell_type": "code",
   "execution_count": 24,
   "id": "4e6ecffd-f65e-49f8-8f7c-ef40a8d8025f",
   "metadata": {},
   "outputs": [
    {
     "name": "stdout",
     "output_type": "stream",
     "text": [
      "        Id           Origen Fecha Origen        Destino        Fecha Destino  \\\n",
      "0  1116749  Plaza Sarmiento   2019-01-01   Plaza Suecia  2019-01-01 00:22:59   \n",
      "1  1116750  Plaza Sarmiento   2019-01-01   Plaza Suecia  2019-01-01 00:22:50   \n",
      "2  1116751      Plaza López   2019-01-01  Barrio Martin  2019-01-01 00:11:29   \n",
      "3  1116752      Plaza López   2019-01-01  Fac. Medicina  2019-01-01 00:54:34   \n",
      "4  1116753  Plaza Sarmiento   2019-01-01  Fac. Medicina  2019-01-01 00:46:53   \n",
      "\n",
      "  Transbordo Hora Origen  \n",
      "0         NC    00:01:40  \n",
      "1         NC    00:02:33  \n",
      "2         NC    00:04:36  \n",
      "3         NC    00:34:23  \n",
      "4         NC    00:34:38  \n"
     ]
    }
   ],
   "source": [
    "# Mostrar las primeras filas del df para verificar los cambios\n",
    "\n",
    "print(df.head())"
   ]
  },
  {
   "cell_type": "code",
   "execution_count": 25,
   "id": "7e3fac3a-49a3-42a9-862d-1c55763f2a3c",
   "metadata": {},
   "outputs": [],
   "source": [
    "# Dividimos las columnas de 'Fecha Destino' en 'Fecha Destino' y 'Hora Destino'\n",
    "\n",
    "df[['Fecha Destino', 'Hora Destino']] = df['Fecha Destino'].str.split(' ', expand=True)"
   ]
  },
  {
   "cell_type": "code",
   "execution_count": 26,
   "id": "f283e8ce-8fe7-455d-b504-fa02a822d75c",
   "metadata": {},
   "outputs": [
    {
     "name": "stdout",
     "output_type": "stream",
     "text": [
      "        Id           Origen Fecha Origen        Destino Fecha Destino  \\\n",
      "0  1116749  Plaza Sarmiento   2019-01-01   Plaza Suecia    2019-01-01   \n",
      "1  1116750  Plaza Sarmiento   2019-01-01   Plaza Suecia    2019-01-01   \n",
      "2  1116751      Plaza López   2019-01-01  Barrio Martin    2019-01-01   \n",
      "3  1116752      Plaza López   2019-01-01  Fac. Medicina    2019-01-01   \n",
      "4  1116753  Plaza Sarmiento   2019-01-01  Fac. Medicina    2019-01-01   \n",
      "\n",
      "  Transbordo Hora Origen Hora Destino  \n",
      "0         NC    00:01:40     00:22:59  \n",
      "1         NC    00:02:33     00:22:50  \n",
      "2         NC    00:04:36     00:11:29  \n",
      "3         NC    00:34:23     00:54:34  \n",
      "4         NC    00:34:38     00:46:53  \n"
     ]
    }
   ],
   "source": [
    "# Mostramos las primeras filas del df para verificar los cambios\n",
    "\n",
    "print(df.head())"
   ]
  },
  {
   "cell_type": "code",
   "execution_count": 27,
   "id": "b208edfd-6881-45bb-9497-a2e2f92eb742",
   "metadata": {},
   "outputs": [],
   "source": [
    "# Cambiamos el tipo de valor de las columnas de Fecha a date\n",
    "\n",
    "df['Fecha Origen'] = pd.to_datetime(df['Fecha Origen'], format='%Y-%m-%d')\n",
    "df['Fecha Destino'] = pd.to_datetime(df['Fecha Destino'], format='%Y-%m-%d')\n",
    "\n",
    "# Cambiamos todos los dias de las columnas Fecha al primero de cada mes para el analisis futuro\n",
    "\n",
    "df['Fecha Origen'] = df['Fecha Origen'].apply(lambda x: x.replace(day=1))\n",
    "df['Fecha Destino'] = df['Fecha Destino'].apply(lambda x: x.replace(day=1))\n",
    "\n",
    "# Cambiamos el formato a DDMMYYYY\n",
    "\n",
    "df['Fecha Origen'] = df['Fecha Origen'].dt.strftime('%d-%m-%Y')\n",
    "df['Fecha Destino'] = df['Fecha Destino'].dt.strftime('%d-%m-%Y')"
   ]
  },
  {
   "cell_type": "code",
   "execution_count": 28,
   "id": "e2b68c5f-e1e1-4a27-990d-8aeb462bba14",
   "metadata": {},
   "outputs": [
    {
     "name": "stdout",
     "output_type": "stream",
     "text": [
      "        Fecha Origen Fecha Destino\n",
      "0         01-01-2019    01-01-2019\n",
      "1         01-01-2019    01-01-2019\n",
      "2         01-01-2019    01-01-2019\n",
      "3         01-01-2019    01-01-2019\n",
      "4         01-01-2019    01-01-2019\n",
      "...              ...           ...\n",
      "2967759   01-12-2021    01-01-2022\n",
      "2967760   01-12-2021    01-01-2022\n",
      "2967761   01-12-2021    01-12-2021\n",
      "2967762   01-12-2021    01-01-2022\n",
      "2967763   01-12-2021    01-01-2022\n",
      "\n",
      "[2967717 rows x 2 columns]\n"
     ]
    }
   ],
   "source": [
    "# Mostramos las filas de las columnas Fecha para verificar los cambios\n",
    "\n",
    "print(df[['Fecha Origen', 'Fecha Destino']])"
   ]
  },
  {
   "cell_type": "code",
   "execution_count": 29,
   "id": "d1653706-d478-421f-b401-dc15fc2d15fa",
   "metadata": {},
   "outputs": [],
   "source": [
    "# Cambiamos el formato de las columas Hora a HH\n",
    "\n",
    "def formato_hora(hora):\n",
    "    hora_minuto = hora.split(':')[:2]\n",
    "    return ':'.join(hora_minuto)\n",
    "\n",
    "# # Cambiamos el tipo de dato a str \n",
    "\n",
    "df['Hora Origen'] = df['Hora Origen'].astype(str)\n",
    "\n",
    "# # Aplicamos la funcion formato_hora\n",
    "\n",
    "df['Hora Origen'] = df['Hora Origen'].apply(formato_hora)"
   ]
  },
  {
   "cell_type": "code",
   "execution_count": 30,
   "id": "0ce7e523-85de-4134-919c-094a753c028b",
   "metadata": {},
   "outputs": [
    {
     "name": "stdout",
     "output_type": "stream",
     "text": [
      "0          00:01\n",
      "1          00:02\n",
      "2          00:04\n",
      "3          00:34\n",
      "4          00:34\n",
      "           ...  \n",
      "2967759    23:42\n",
      "2967760    23:42\n",
      "2967761    23:42\n",
      "2967762    23:43\n",
      "2967763    23:43\n",
      "Name: Hora Origen, Length: 2967717, dtype: object\n"
     ]
    }
   ],
   "source": [
    "# Mostramos las primeras filas de la columna Hora Origen para verificar los cambios\n",
    "\n",
    "print(df['Hora Origen'])"
   ]
  },
  {
   "cell_type": "code",
   "execution_count": 31,
   "id": "473de8ce-bdcc-4a2c-a95d-48b89c539286",
   "metadata": {},
   "outputs": [],
   "source": [
    "# Realizamos lo mismo con la columna Hora Destino\n",
    "\n",
    "def formato_hora(hora):\n",
    "    hora_minuto = hora.split(':')[:2]\n",
    "    return ':'.join(hora_minuto)\n",
    "\n",
    "# # Cambiamos el tipo de dato a str \n",
    "\n",
    "df['Hora Destino'] = df['Hora Destino'].astype(str)\n",
    "\n",
    "# # Aplicamos la funcion formato_hora\n",
    "\n",
    "df['Hora Destino'] = df['Hora Destino'].apply(formato_hora)"
   ]
  },
  {
   "cell_type": "code",
   "execution_count": 32,
   "id": "74948aec-ba93-41c7-87ef-084259048a99",
   "metadata": {},
   "outputs": [
    {
     "name": "stdout",
     "output_type": "stream",
     "text": [
      "0          00:22\n",
      "1          00:22\n",
      "2          00:11\n",
      "3          00:54\n",
      "4          00:46\n",
      "           ...  \n",
      "2967759    00:46\n",
      "2967760    00:58\n",
      "2967761    23:52\n",
      "2967762    00:53\n",
      "2967763    00:01\n",
      "Name: Hora Destino, Length: 2967717, dtype: object\n"
     ]
    }
   ],
   "source": [
    "# Mostramos las primeras filas de la columna Hora Destino para verificar los cambios\n",
    "\n",
    "print(df['Hora Destino'])"
   ]
  },
  {
   "cell_type": "code",
   "execution_count": 33,
   "id": "e1b07f7b-47f4-4f7e-b628-c8abe151e03b",
   "metadata": {},
   "outputs": [
    {
     "name": "stdout",
     "output_type": "stream",
     "text": [
      "Los valores dentro de la columna Transbordo son:\n",
      "\n",
      "['NC' '-' 'Sin Abono' 'Con Abono' nan]\n"
     ]
    }
   ],
   "source": [
    "# Visualizamos los diferentes tipos de valor dentro de la columna Transbordo\n",
    "\n",
    "valores_unicos_transbordo = df['Transbordo'].unique()\n",
    "print(f\"Los valores dentro de la columna Transbordo son:\\n\")\n",
    "print(valores_unicos_transbordo)"
   ]
  },
  {
   "cell_type": "code",
   "execution_count": 34,
   "id": "5902458f-8c86-4992-adc9-636beef893b0",
   "metadata": {},
   "outputs": [
    {
     "name": "stdout",
     "output_type": "stream",
     "text": [
      "Cantidad del valor \"NC\": 615752\n",
      "Cantidad del valor \"-\": 2129537\n",
      "Cantidad del valor \"Sin Abono\": 29623\n",
      "Cantidad del valor \"Con Abono\": 19783\n",
      "Cantidad del valor \"NaN\": 173022\n"
     ]
    }
   ],
   "source": [
    "# Visualizamos que cantidad represanta cada valor de la columna Transbordo\n",
    "\n",
    "conteo_transbordo = df['Transbordo'].value_counts()\n",
    "\n",
    "valores_nan_transbordo = df['Transbordo'].isna().sum()\n",
    "\n",
    "valores_transbordo = ['NC', '-', 'Sin Abono', 'Con Abono', 'NaN']\n",
    "\n",
    "for valor in valores_transbordo:\n",
    "    if valor == 'NaN':\n",
    "        suma = valores_nan_transbordo\n",
    "    else:\n",
    "        suma = conteo_transbordo.get(valor, 0)\n",
    "    print(f'Cantidad del valor \"{valor}\": {suma}')"
   ]
  },
  {
   "cell_type": "code",
   "execution_count": 35,
   "id": "2dfaa17d-b90d-4917-9abe-7e22e5044db9",
   "metadata": {},
   "outputs": [
    {
     "name": "stdout",
     "output_type": "stream",
     "text": [
      "Porcentaje del valor \"NC\": 20.75%\n",
      "Porcentaje del valor \"-\": 71.76%\n",
      "Porcentaje del valor \"Sin Abono\": 1.00%\n",
      "Porcentaje del valor \"Con Abono\": 0.67%\n",
      "Porcentaje del valor \"NaN\": 5.83%\n"
     ]
    }
   ],
   "source": [
    "# Vemos el porcentaje que representa cada valor de la columna Transbordo\n",
    "\n",
    "total_elementos = len(df)\n",
    "\n",
    "for valor in valores_transbordo:\n",
    "    if valor == 'NaN':\n",
    "        cantidad = valores_nan_transbordo\n",
    "    else:\n",
    "        cantidad = conteo_transbordo.get(valor, 0)\n",
    "    porcentaje = (cantidad / total_elementos) * 100\n",
    "    print(f'Porcentaje del valor \"{valor}\": {porcentaje:.2f}%')"
   ]
  },
  {
   "cell_type": "code",
   "execution_count": 36,
   "id": "c00188b8-9ed0-4f17-b683-1140ffb20ee7",
   "metadata": {},
   "outputs": [],
   "source": [
    "# Como vimos anteriormente, menos del 2% de valores son datos los cuales pueden ser analizado\n",
    "# En base a esto, borramos la columna Transbordo\n",
    "\n",
    "df = df.drop(columns=['Transbordo'])"
   ]
  },
  {
   "cell_type": "code",
   "execution_count": 37,
   "id": "99c9ab51-7513-4b85-89a3-181585c0b965",
   "metadata": {},
   "outputs": [
    {
     "data": {
      "text/html": [
       "<div>\n",
       "<style scoped>\n",
       "    .dataframe tbody tr th:only-of-type {\n",
       "        vertical-align: middle;\n",
       "    }\n",
       "\n",
       "    .dataframe tbody tr th {\n",
       "        vertical-align: top;\n",
       "    }\n",
       "\n",
       "    .dataframe thead th {\n",
       "        text-align: right;\n",
       "    }\n",
       "</style>\n",
       "<table border=\"1\" class=\"dataframe\">\n",
       "  <thead>\n",
       "    <tr style=\"text-align: right;\">\n",
       "      <th></th>\n",
       "      <th>Id</th>\n",
       "      <th>Origen</th>\n",
       "      <th>Fecha Origen</th>\n",
       "      <th>Destino</th>\n",
       "      <th>Fecha Destino</th>\n",
       "      <th>Hora Origen</th>\n",
       "      <th>Hora Destino</th>\n",
       "    </tr>\n",
       "  </thead>\n",
       "  <tbody>\n",
       "    <tr>\n",
       "      <th>0</th>\n",
       "      <td>1116749</td>\n",
       "      <td>Plaza Sarmiento</td>\n",
       "      <td>01-01-2019</td>\n",
       "      <td>Plaza Suecia</td>\n",
       "      <td>01-01-2019</td>\n",
       "      <td>00:01</td>\n",
       "      <td>00:22</td>\n",
       "    </tr>\n",
       "    <tr>\n",
       "      <th>1</th>\n",
       "      <td>1116750</td>\n",
       "      <td>Plaza Sarmiento</td>\n",
       "      <td>01-01-2019</td>\n",
       "      <td>Plaza Suecia</td>\n",
       "      <td>01-01-2019</td>\n",
       "      <td>00:02</td>\n",
       "      <td>00:22</td>\n",
       "    </tr>\n",
       "    <tr>\n",
       "      <th>2</th>\n",
       "      <td>1116751</td>\n",
       "      <td>Plaza López</td>\n",
       "      <td>01-01-2019</td>\n",
       "      <td>Barrio Martin</td>\n",
       "      <td>01-01-2019</td>\n",
       "      <td>00:04</td>\n",
       "      <td>00:11</td>\n",
       "    </tr>\n",
       "    <tr>\n",
       "      <th>3</th>\n",
       "      <td>1116752</td>\n",
       "      <td>Plaza López</td>\n",
       "      <td>01-01-2019</td>\n",
       "      <td>Fac. Medicina</td>\n",
       "      <td>01-01-2019</td>\n",
       "      <td>00:34</td>\n",
       "      <td>00:54</td>\n",
       "    </tr>\n",
       "    <tr>\n",
       "      <th>4</th>\n",
       "      <td>1116753</td>\n",
       "      <td>Plaza Sarmiento</td>\n",
       "      <td>01-01-2019</td>\n",
       "      <td>Fac. Medicina</td>\n",
       "      <td>01-01-2019</td>\n",
       "      <td>00:34</td>\n",
       "      <td>00:46</td>\n",
       "    </tr>\n",
       "    <tr>\n",
       "      <th>...</th>\n",
       "      <td>...</td>\n",
       "      <td>...</td>\n",
       "      <td>...</td>\n",
       "      <td>...</td>\n",
       "      <td>...</td>\n",
       "      <td>...</td>\n",
       "      <td>...</td>\n",
       "    </tr>\n",
       "    <tr>\n",
       "      <th>2967759</th>\n",
       "      <td>4477926</td>\n",
       "      <td>Museo Castagnino</td>\n",
       "      <td>01-12-2021</td>\n",
       "      <td>Rondeau y Washington</td>\n",
       "      <td>01-01-2022</td>\n",
       "      <td>23:42</td>\n",
       "      <td>00:46</td>\n",
       "    </tr>\n",
       "    <tr>\n",
       "      <th>2967760</th>\n",
       "      <td>4477927</td>\n",
       "      <td>Barrio Lourdes</td>\n",
       "      <td>01-12-2021</td>\n",
       "      <td>Plaza Suecia</td>\n",
       "      <td>01-01-2022</td>\n",
       "      <td>23:42</td>\n",
       "      <td>00:58</td>\n",
       "    </tr>\n",
       "    <tr>\n",
       "      <th>2967761</th>\n",
       "      <td>4477928</td>\n",
       "      <td>Parque Hipólito Yrigoyen II</td>\n",
       "      <td>01-12-2021</td>\n",
       "      <td>Paseo Pellegrini II</td>\n",
       "      <td>01-12-2021</td>\n",
       "      <td>23:42</td>\n",
       "      <td>23:52</td>\n",
       "    </tr>\n",
       "    <tr>\n",
       "      <th>2967762</th>\n",
       "      <td>4477929</td>\n",
       "      <td>Barrio Lourdes</td>\n",
       "      <td>01-12-2021</td>\n",
       "      <td>Plaza Suecia</td>\n",
       "      <td>01-01-2022</td>\n",
       "      <td>23:43</td>\n",
       "      <td>00:53</td>\n",
       "    </tr>\n",
       "    <tr>\n",
       "      <th>2967763</th>\n",
       "      <td>4477930</td>\n",
       "      <td>Plaza Cooperación</td>\n",
       "      <td>01-12-2021</td>\n",
       "      <td>Plaza Cooperación</td>\n",
       "      <td>01-01-2022</td>\n",
       "      <td>23:43</td>\n",
       "      <td>00:01</td>\n",
       "    </tr>\n",
       "  </tbody>\n",
       "</table>\n",
       "<p>2967717 rows × 7 columns</p>\n",
       "</div>"
      ],
      "text/plain": [
       "              Id                       Origen Fecha Origen  \\\n",
       "0        1116749              Plaza Sarmiento   01-01-2019   \n",
       "1        1116750              Plaza Sarmiento   01-01-2019   \n",
       "2        1116751                  Plaza López   01-01-2019   \n",
       "3        1116752                  Plaza López   01-01-2019   \n",
       "4        1116753              Plaza Sarmiento   01-01-2019   \n",
       "...          ...                          ...          ...   \n",
       "2967759  4477926             Museo Castagnino   01-12-2021   \n",
       "2967760  4477927               Barrio Lourdes   01-12-2021   \n",
       "2967761  4477928  Parque Hipólito Yrigoyen II   01-12-2021   \n",
       "2967762  4477929               Barrio Lourdes   01-12-2021   \n",
       "2967763  4477930            Plaza Cooperación   01-12-2021   \n",
       "\n",
       "                      Destino Fecha Destino Hora Origen Hora Destino  \n",
       "0                Plaza Suecia    01-01-2019       00:01        00:22  \n",
       "1                Plaza Suecia    01-01-2019       00:02        00:22  \n",
       "2               Barrio Martin    01-01-2019       00:04        00:11  \n",
       "3               Fac. Medicina    01-01-2019       00:34        00:54  \n",
       "4               Fac. Medicina    01-01-2019       00:34        00:46  \n",
       "...                       ...           ...         ...          ...  \n",
       "2967759  Rondeau y Washington    01-01-2022       23:42        00:46  \n",
       "2967760          Plaza Suecia    01-01-2022       23:42        00:58  \n",
       "2967761   Paseo Pellegrini II    01-12-2021       23:42        23:52  \n",
       "2967762          Plaza Suecia    01-01-2022       23:43        00:53  \n",
       "2967763     Plaza Cooperación    01-01-2022       23:43        00:01  \n",
       "\n",
       "[2967717 rows x 7 columns]"
      ]
     },
     "execution_count": 37,
     "metadata": {},
     "output_type": "execute_result"
    }
   ],
   "source": [
    "df"
   ]
  },
  {
   "cell_type": "code",
   "execution_count": 38,
   "id": "128af09e-3c1f-4a5a-991c-5640e05a5841",
   "metadata": {},
   "outputs": [
    {
     "name": "stdout",
     "output_type": "stream",
     "text": [
      "La cantidad de valores NaN dentro del Dataframe son: 692089\n",
      "\n",
      "El porcentaje que esta cantidad de datos representa es de: 23.32%\n"
     ]
    }
   ],
   "source": [
    "# Calculamos la cantidad de Nan\n",
    "\n",
    "valores_nan_df = df.isna().sum()\n",
    "\n",
    "print(f'La cantidad de valores NaN dentro del Dataframe son: {valores_nan_df.sum()}\\n')\n",
    "\n",
    "# Y el porcentaje que estos valores representan dentro del df\n",
    "\n",
    "porcentaje_df = (valores_nan_df.sum() / total_elementos) * 100\n",
    "\n",
    "print(f'El porcentaje que esta cantidad de datos representa es de: {porcentaje_df:.2f}%')"
   ]
  },
  {
   "cell_type": "code",
   "execution_count": 39,
   "id": "999af058-ed64-488d-a0c4-74ccf1594dbd",
   "metadata": {},
   "outputs": [
    {
     "name": "stdout",
     "output_type": "stream",
     "text": [
      "Filas con al menos cuatro valores NaN:\n",
      "                                                        Id Origen  \\\n",
      "1780414                                                NaN    NaN   \n",
      "2231749  3647289Estadio Municipal2021-06-01 00:00Plaza ...    NaN   \n",
      "2231750  3647290Estadio Municipal2021-06-01 00:01Barrio...    NaN   \n",
      "2231751  3647291Parque Hipólito Yrigoyen2021-06-01 00:0...    NaN   \n",
      "2231752  3647292Parque Independencia II2021-06-01 00:04...    NaN   \n",
      "...                                                    ...    ...   \n",
      "2404765  3842777Refinería2021-07-31 23:51Lisandro de la...    NaN   \n",
      "2404766  3842778Plaza Cooperación2021-07-31 23:55Paseo ...    NaN   \n",
      "2404767  3842779Plaza 25 de Mayo2021-07-31 23:59Paseo P...    NaN   \n",
      "2404768  3842780CC Echesortu2021-07-31 23:59Plaza San M...    NaN   \n",
      "2404769  3842781Plaza 25 de Mayo2021-07-31 23:59Paseo P...    NaN   \n",
      "\n",
      "        Fecha Origen Destino Fecha Destino Hora Origen Hora Destino  \n",
      "1780414          NaN     NaN           NaN         nan          nan  \n",
      "2231749          NaN     NaN           NaN         nan          nan  \n",
      "2231750          NaN     NaN           NaN         nan          nan  \n",
      "2231751          NaN     NaN           NaN         nan          nan  \n",
      "2231752          NaN     NaN           NaN         nan          nan  \n",
      "...              ...     ...           ...         ...          ...  \n",
      "2404765          NaN     NaN           NaN         nan          nan  \n",
      "2404766          NaN     NaN           NaN         nan          nan  \n",
      "2404767          NaN     NaN           NaN         nan          nan  \n",
      "2404768          NaN     NaN           NaN         nan          nan  \n",
      "2404769          NaN     NaN           NaN         nan          nan  \n",
      "\n",
      "[173022 rows x 7 columns]\n"
     ]
    }
   ],
   "source": [
    "# Visualizamos las filas que contienen 4 o mas valores NaN\n",
    "\n",
    "filas_con_nan = df[df.isna().sum(axis=1) >= 4]\n",
    "\n",
    "print(\"Filas con al menos cuatro valores NaN:\")\n",
    "print(filas_con_nan)"
   ]
  },
  {
   "cell_type": "code",
   "execution_count": 40,
   "id": "ac8b1c4e-e013-4e17-bc85-e9adce339377",
   "metadata": {},
   "outputs": [
    {
     "name": "stdout",
     "output_type": "stream",
     "text": [
      "Cantidad de registros totales: 2967717\n"
     ]
    }
   ],
   "source": [
    "# Cantidad de registros totales antes de los cambios\n",
    "\n",
    "print(f\"Cantidad de registros totales: {df.shape[0]}\")"
   ]
  },
  {
   "cell_type": "code",
   "execution_count": 41,
   "id": "4986307f-dc7d-4edf-a2a4-1c0e31746dfa",
   "metadata": {},
   "outputs": [],
   "source": [
    "# Eliminamos las filas que tienen al menos cuatro valores NaN\n",
    "\n",
    "df = df.dropna(thresh=len(df.columns) - 3)"
   ]
  },
  {
   "cell_type": "code",
   "execution_count": 42,
   "id": "4e0b0bd3-0823-42b6-a0df-925f14b0dca3",
   "metadata": {},
   "outputs": [
    {
     "name": "stdout",
     "output_type": "stream",
     "text": [
      "Cantidad de registros totales: 2794695\n"
     ]
    }
   ],
   "source": [
    "# Cantidad de registros totales luego de los cambios\n",
    "\n",
    "print(f\"Cantidad de registros totales: {df.shape[0]}\")"
   ]
  },
  {
   "cell_type": "code",
   "execution_count": 43,
   "id": "2bd59973-5e37-47a3-8b77-d85c0c7d36c8",
   "metadata": {},
   "outputs": [
    {
     "name": "stdout",
     "output_type": "stream",
     "text": [
      "Valores unicos de la columna 'Id':\n",
      "[1116749 1116750 1116751 ... 4477928 4477929 4477930]\n",
      "\n",
      "Valores unicos de la columna 'Origen':\n",
      "['Plaza Sarmiento' 'Plaza López' 'Plaza Cooperación' 'Pichincha'\n",
      " 'Plaza Eva Duarte de Perón' 'Paseo Pellegrini II' 'Plaza 25 de Mayo'\n",
      " 'Paseo Pellegrini' 'Barrio Lourdes' 'República de la Sexta'\n",
      " 'Barrio Hospitales' 'CC Echesortu' 'Parque Hipólito Yrigoyen II'\n",
      " 'Parque Independencia I' 'Barrio Martin' 'Bella Vista' 'Abasto'\n",
      " 'Estadio Municipal' 'Club Provincial' 'Barrio Parque' 'Cinco esquinas'\n",
      " 'Plaza Gral. Toribio de Luzuriaga' 'Fac. Ciencias Económicas'\n",
      " 'Plaza Pringles' 'HECA / UCA' 'Plaza Montenegro' 'CC Echesortu II'\n",
      " 'Terminal' 'Gimnasio UNR' 'Fac. Medicina' 'Oroño y Segui'\n",
      " 'Fac. de Ingeniería' 'Refinería' 'Parque España'\n",
      " 'Parque Hipólito Yrigoyen' 'Puerto Norte' 'Plaza Suecia' 'Barrio Agote'\n",
      " 'Museo Castagnino' 'Parque Independencia II' 'Pichincha II' 'Arroyito'\n",
      " 'Alto Rosario' 'Parque de la Arenera' 'Plaza San Martín'\n",
      " 'Pellegrini y Avellaneda' 'Pueyrredón' 'Ciudad Univ. I' 'Barrio Matheu'\n",
      " 'Lagos y Segui' 'Distrito Centro' 'Ciudad Univ. II' 'Estación móvil 01'\n",
      " 'Estación móvil 02' 'Avellaneda y Córdoba' 'Distrito Oeste'\n",
      " 'Lisandro de la Torre' 'Portal Rosario' 'Rondeau y Washington'\n",
      " 'Plaza Alberdi' 'La Rambla' 'La Florida' 'Parque Alem' 'PAMI II'\n",
      " 'Rondeau y Sorrento' 'Plaza Azcuénaga' 'Cuatro Plazas'\n",
      " 'Mendoza y Magallanes' 'Mendoza y Sucre' 'Provincias Unidas y Eva Perón'\n",
      " 'Costa Alta' 'Distrito Noroeste' 'Rondeau y Martín Fierro'\n",
      " 'Rondeau y Ricardo Núñez' 'Estación de Prueba']\n",
      "\n",
      "Valores unicos de la columna 'Fecha Origen':\n",
      "['01-01-2019' '01-02-2019' '01-03-2019' '01-04-2019' '01-05-2019'\n",
      " '01-06-2019' '01-07-2019' '01-09-2019' '01-10-2019' '01-11-2019'\n",
      " '01-12-2019' '01-08-2019' '01-01-2020' '01-02-2020' '01-03-2020'\n",
      " '01-04-2020' '01-05-2020' '01-06-2020' '01-07-2020' '01-08-2020'\n",
      " '01-09-2020' '01-10-2020' '01-11-2020' '01-12-2020' '01-01-2021'\n",
      " '01-02-2021' '01-03-2021' '01-04-2021' '01-05-2021' '01-08-2021'\n",
      " '01-09-2021' '01-10-2021' '01-11-2021' '01-12-2021']\n",
      "\n",
      "Valores unicos de la columna 'Hora Origen':\n",
      "['00:01' '00:02' '00:04' ... '05:17' '04:24' '04:41']\n",
      "\n",
      "Valores unicos de la columna 'Destino':\n",
      "['Plaza Suecia' 'Barrio Martin' 'Fac. Medicina' 'Pueyrredón'\n",
      " 'Barrio Lourdes' 'Barrio Hospitales' 'Parque Independencia I' 'Arroyito'\n",
      " 'Plaza San Martín' 'Fac. Ciencias Económicas' 'Plaza Eva Duarte de Perón'\n",
      " 'Barrio Parque' 'Pichincha' 'Parque Hipólito Yrigoyen' 'Parque España'\n",
      " 'Plaza López' 'Gimnasio UNR' 'Paseo Pellegrini II' 'Fac. de Ingeniería'\n",
      " 'Terminal' 'Plaza Montenegro' 'Plaza Pringles' 'Plaza Cooperación'\n",
      " 'Plaza Gral. Toribio de Luzuriaga' 'HECA / UCA' 'CC Echesortu'\n",
      " 'Bella Vista' 'Parque de la Arenera' 'Plaza 25 de Mayo'\n",
      " 'Estadio Municipal' 'Parque Hipólito Yrigoyen II' 'Pichincha II'\n",
      " 'República de la Sexta' 'Plaza Sarmiento' 'Abasto' 'CC Echesortu II'\n",
      " 'Refinería' 'Paseo Pellegrini' 'Lagos y Segui' 'Oroño y Segui'\n",
      " 'Pellegrini y Avellaneda' 'Cinco esquinas' 'Club Provincial'\n",
      " 'Museo Castagnino' 'Parque Independencia II' 'Barrio Matheu'\n",
      " 'Barrio Agote' 'Puerto Norte' 'Alto Rosario' 'Ciudad Univ. I'\n",
      " 'Ciudad Univ. II' 'Distrito Centro' 'Desarrollo' 'Estación móvil 01'\n",
      " 'Estación móvil 02' 'Avellaneda y Córdoba' 'Distrito Oeste'\n",
      " 'Lisandro de la Torre' 'Portal Rosario' 'Rondeau y Washington'\n",
      " 'Plaza Alberdi' 'La Rambla' 'La Florida' 'Parque Alem' 'PAMI II'\n",
      " 'Rondeau y Sorrento' 'Mendoza y Sucre' 'Provincias Unidas y Eva Perón'\n",
      " 'Plaza Azcuénaga' 'Cuatro Plazas' 'Mendoza y Magallanes' 'Costa Alta'\n",
      " 'Distrito Noroeste' 'Rondeau y Martín Fierro' 'Rondeau y Ricardo Núñez'\n",
      " 'Estación de Prueba']\n",
      "\n",
      "Valores unicos de la columna 'Fecha Destino':\n",
      "['01-01-2019' '01-02-2019' '01-03-2019' '01-04-2019' '01-05-2019'\n",
      " '01-06-2019' '01-07-2019' '01-08-2019' '01-09-2019' '01-10-2019'\n",
      " '01-11-2019' '01-12-2019' '01-01-2020' '01-02-2020' '01-03-2020'\n",
      " '01-04-2020' '01-05-2020' '01-06-2020' '01-07-2020' '01-08-2020'\n",
      " '01-09-2020' '01-10-2020' '01-11-2020' '01-12-2020' '01-01-2021'\n",
      " '01-02-2021' '01-03-2021' '01-04-2021' '01-05-2021' '01-06-2021'\n",
      " '01-08-2021' '01-09-2021' '01-10-2021' '01-11-2021' '01-12-2021'\n",
      " '01-01-2022']\n",
      "\n",
      "Valores unicos de la columna 'Hora Origen':\n",
      "['00:01' '00:02' '00:04' ... '05:17' '04:24' '04:41']\n",
      "\n"
     ]
    }
   ],
   "source": [
    "# Agregamos las nuevas columnas a la lista de columnas\n",
    "\n",
    "columnas = [\n",
    "    'Id', \n",
    "    'Origen', \n",
    "    'Fecha Origen',\n",
    "    'Hora Origen',\n",
    "    'Destino', \n",
    "    'Fecha Destino',\n",
    "    'Hora Origen',\n",
    "]\n",
    "\n",
    "# Visualizamos los valores unicos de las columnas\n",
    "\n",
    "for columna in columnas:\n",
    "    valores_unicos = df[columna].unique()\n",
    "    print(f\"Valores unicos de la columna '{columna}':\")\n",
    "    print(f\"{valores_unicos}\\n\")"
   ]
  },
  {
   "cell_type": "code",
   "execution_count": 44,
   "id": "ba301a39-f87f-4216-bef4-e2beaed396e2",
   "metadata": {},
   "outputs": [
    {
     "data": {
      "text/html": [
       "<div>\n",
       "<style scoped>\n",
       "    .dataframe tbody tr th:only-of-type {\n",
       "        vertical-align: middle;\n",
       "    }\n",
       "\n",
       "    .dataframe tbody tr th {\n",
       "        vertical-align: top;\n",
       "    }\n",
       "\n",
       "    .dataframe thead th {\n",
       "        text-align: right;\n",
       "    }\n",
       "</style>\n",
       "<table border=\"1\" class=\"dataframe\">\n",
       "  <thead>\n",
       "    <tr style=\"text-align: right;\">\n",
       "      <th></th>\n",
       "      <th>Id</th>\n",
       "      <th>Origen</th>\n",
       "      <th>Fecha Origen</th>\n",
       "      <th>Hora Origen</th>\n",
       "      <th>Destino</th>\n",
       "      <th>Fecha Destino</th>\n",
       "      <th>Hora Destino</th>\n",
       "    </tr>\n",
       "  </thead>\n",
       "  <tbody>\n",
       "    <tr>\n",
       "      <th>0</th>\n",
       "      <td>1116749</td>\n",
       "      <td>Plaza Sarmiento</td>\n",
       "      <td>01-01-2019</td>\n",
       "      <td>00:01</td>\n",
       "      <td>Plaza Suecia</td>\n",
       "      <td>01-01-2019</td>\n",
       "      <td>00:22</td>\n",
       "    </tr>\n",
       "    <tr>\n",
       "      <th>1</th>\n",
       "      <td>1116750</td>\n",
       "      <td>Plaza Sarmiento</td>\n",
       "      <td>01-01-2019</td>\n",
       "      <td>00:02</td>\n",
       "      <td>Plaza Suecia</td>\n",
       "      <td>01-01-2019</td>\n",
       "      <td>00:22</td>\n",
       "    </tr>\n",
       "    <tr>\n",
       "      <th>2</th>\n",
       "      <td>1116751</td>\n",
       "      <td>Plaza López</td>\n",
       "      <td>01-01-2019</td>\n",
       "      <td>00:04</td>\n",
       "      <td>Barrio Martin</td>\n",
       "      <td>01-01-2019</td>\n",
       "      <td>00:11</td>\n",
       "    </tr>\n",
       "    <tr>\n",
       "      <th>3</th>\n",
       "      <td>1116752</td>\n",
       "      <td>Plaza López</td>\n",
       "      <td>01-01-2019</td>\n",
       "      <td>00:34</td>\n",
       "      <td>Fac. Medicina</td>\n",
       "      <td>01-01-2019</td>\n",
       "      <td>00:54</td>\n",
       "    </tr>\n",
       "    <tr>\n",
       "      <th>4</th>\n",
       "      <td>1116753</td>\n",
       "      <td>Plaza Sarmiento</td>\n",
       "      <td>01-01-2019</td>\n",
       "      <td>00:34</td>\n",
       "      <td>Fac. Medicina</td>\n",
       "      <td>01-01-2019</td>\n",
       "      <td>00:46</td>\n",
       "    </tr>\n",
       "    <tr>\n",
       "      <th>...</th>\n",
       "      <td>...</td>\n",
       "      <td>...</td>\n",
       "      <td>...</td>\n",
       "      <td>...</td>\n",
       "      <td>...</td>\n",
       "      <td>...</td>\n",
       "      <td>...</td>\n",
       "    </tr>\n",
       "    <tr>\n",
       "      <th>2967759</th>\n",
       "      <td>4477926</td>\n",
       "      <td>Museo Castagnino</td>\n",
       "      <td>01-12-2021</td>\n",
       "      <td>23:42</td>\n",
       "      <td>Rondeau y Washington</td>\n",
       "      <td>01-01-2022</td>\n",
       "      <td>00:46</td>\n",
       "    </tr>\n",
       "    <tr>\n",
       "      <th>2967760</th>\n",
       "      <td>4477927</td>\n",
       "      <td>Barrio Lourdes</td>\n",
       "      <td>01-12-2021</td>\n",
       "      <td>23:42</td>\n",
       "      <td>Plaza Suecia</td>\n",
       "      <td>01-01-2022</td>\n",
       "      <td>00:58</td>\n",
       "    </tr>\n",
       "    <tr>\n",
       "      <th>2967761</th>\n",
       "      <td>4477928</td>\n",
       "      <td>Parque Hipólito Yrigoyen II</td>\n",
       "      <td>01-12-2021</td>\n",
       "      <td>23:42</td>\n",
       "      <td>Paseo Pellegrini II</td>\n",
       "      <td>01-12-2021</td>\n",
       "      <td>23:52</td>\n",
       "    </tr>\n",
       "    <tr>\n",
       "      <th>2967762</th>\n",
       "      <td>4477929</td>\n",
       "      <td>Barrio Lourdes</td>\n",
       "      <td>01-12-2021</td>\n",
       "      <td>23:43</td>\n",
       "      <td>Plaza Suecia</td>\n",
       "      <td>01-01-2022</td>\n",
       "      <td>00:53</td>\n",
       "    </tr>\n",
       "    <tr>\n",
       "      <th>2967763</th>\n",
       "      <td>4477930</td>\n",
       "      <td>Plaza Cooperación</td>\n",
       "      <td>01-12-2021</td>\n",
       "      <td>23:43</td>\n",
       "      <td>Plaza Cooperación</td>\n",
       "      <td>01-01-2022</td>\n",
       "      <td>00:01</td>\n",
       "    </tr>\n",
       "  </tbody>\n",
       "</table>\n",
       "<p>2794695 rows × 7 columns</p>\n",
       "</div>"
      ],
      "text/plain": [
       "              Id                       Origen Fecha Origen Hora Origen  \\\n",
       "0        1116749              Plaza Sarmiento   01-01-2019       00:01   \n",
       "1        1116750              Plaza Sarmiento   01-01-2019       00:02   \n",
       "2        1116751                  Plaza López   01-01-2019       00:04   \n",
       "3        1116752                  Plaza López   01-01-2019       00:34   \n",
       "4        1116753              Plaza Sarmiento   01-01-2019       00:34   \n",
       "...          ...                          ...          ...         ...   \n",
       "2967759  4477926             Museo Castagnino   01-12-2021       23:42   \n",
       "2967760  4477927               Barrio Lourdes   01-12-2021       23:42   \n",
       "2967761  4477928  Parque Hipólito Yrigoyen II   01-12-2021       23:42   \n",
       "2967762  4477929               Barrio Lourdes   01-12-2021       23:43   \n",
       "2967763  4477930            Plaza Cooperación   01-12-2021       23:43   \n",
       "\n",
       "                      Destino Fecha Destino Hora Destino  \n",
       "0                Plaza Suecia    01-01-2019        00:22  \n",
       "1                Plaza Suecia    01-01-2019        00:22  \n",
       "2               Barrio Martin    01-01-2019        00:11  \n",
       "3               Fac. Medicina    01-01-2019        00:54  \n",
       "4               Fac. Medicina    01-01-2019        00:46  \n",
       "...                       ...           ...          ...  \n",
       "2967759  Rondeau y Washington    01-01-2022        00:46  \n",
       "2967760          Plaza Suecia    01-01-2022        00:58  \n",
       "2967761   Paseo Pellegrini II    01-12-2021        23:52  \n",
       "2967762          Plaza Suecia    01-01-2022        00:53  \n",
       "2967763     Plaza Cooperación    01-01-2022        00:01  \n",
       "\n",
       "[2794695 rows x 7 columns]"
      ]
     },
     "execution_count": 44,
     "metadata": {},
     "output_type": "execute_result"
    }
   ],
   "source": [
    "# Ordenamos la posicion de las columnas\n",
    "\n",
    "orden_df = ['Id', 'Origen', 'Fecha Origen', 'Hora Origen', 'Destino', 'Fecha Destino', 'Hora Destino']\n",
    "\n",
    "df = df[orden_df]\n",
    "\n",
    "df"
   ]
  },
  {
   "cell_type": "code",
   "execution_count": 45,
   "id": "f090b4c7-b976-4561-8c9c-386d6c9441d0",
   "metadata": {},
   "outputs": [],
   "source": [
    "# Guardamos el DF\n",
    "\n",
    "df.to_csv(r'C:\\Users\\Federico\\Desktop\\Data\\MBTC.csv', index=False)"
   ]
  }
 ],
 "metadata": {
  "kernelspec": {
   "display_name": "Python 3 (ipykernel)",
   "language": "python",
   "name": "python3"
  },
  "language_info": {
   "codemirror_mode": {
    "name": "ipython",
    "version": 3
   },
   "file_extension": ".py",
   "mimetype": "text/x-python",
   "name": "python",
   "nbconvert_exporter": "python",
   "pygments_lexer": "ipython3",
   "version": "3.11.7"
  }
 },
 "nbformat": 4,
 "nbformat_minor": 5
}
